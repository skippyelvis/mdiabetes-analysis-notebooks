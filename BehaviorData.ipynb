{
 "cells": [
  {
   "cell_type": "code",
   "execution_count": 1,
   "id": "685cb88e-aa0f-4fac-8532-11ed45f4ecae",
   "metadata": {},
   "outputs": [],
   "source": [
    "from utils.behavior_data import BehaviorData\n",
    "from utils.state_data import StateData\n",
    "\n",
    "bd = BehaviorData()\n",
    "print(bd.dimensions)"
   ]
  }
 ],
 "metadata": {
  "kernelspec": {
   "display_name": "phdl",
   "language": "python",
   "name": "phdl"
  },
  "language_info": {
   "codemirror_mode": {
    "name": "ipython",
    "version": 3
   },
   "file_extension": ".py",
   "mimetype": "text/x-python",
   "name": "python",
   "nbconvert_exporter": "python",
   "pygments_lexer": "ipython3",
   "version": "3.9.7"
  }
 },
 "nbformat": 4,
 "nbformat_minor": 5
}
