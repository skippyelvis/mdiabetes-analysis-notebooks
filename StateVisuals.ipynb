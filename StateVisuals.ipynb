{
 "cells": [
  {
   "cell_type": "code",
   "execution_count": 1,
   "id": "1e4fc0ce-4647-4ef2-8e89-958975fe984c",
   "metadata": {
    "tags": []
   },
   "outputs": [],
   "source": [
    "import numpy as np\n",
    "import os\n",
    "import matplotlib.pyplot as plt\n",
    "from utils.state_data import StateData\n",
    "from utils.state_visuals import plot_active_participants\n",
    "\n",
    "# path_pre: relative path to the mdiabetes/ folder\n",
    "# storage_dir: which directory from local_storage/ to read from (we have [prod]uction and [simul]ation)\n",
    "sd = StateData(storage_dir=\"prod\")\n",
    "minw, maxw = 2,8\n",
    "\n",
    "bypid = sd.buildby(\"pid\", minw, maxw)\n",
    "pidkeys = list(bypid.keys())\n",
    "\n",
    "apid = sd.analyze(bypid)"
   ]
  },
  {
   "cell_type": "code",
   "execution_count": 2,
   "id": "275a4ebe-ce5e-4b58-a57c-f177df9a6010",
   "metadata": {
    "tags": []
   },
   "outputs": [
    {
     "name": "stdout",
     "output_type": "stream",
     "text": [
      "0.05\n"
     ]
    }
   ],
   "source": [
    "plot_active_participants(apid, [0.05]) # , .1, .15, .2, .25, .3, .35, .4, .45, .5])"
   ]
  },
  {
   "cell_type": "code",
   "execution_count": null,
   "id": "cb9c8db5-876b-4cf5-bbc9-a970e4de470b",
   "metadata": {},
   "outputs": [],
   "source": []
  }
 ],
 "metadata": {
  "kernelspec": {
   "display_name": "phdl",
   "language": "python",
   "name": "phdl"
  },
  "language_info": {
   "codemirror_mode": {
    "name": "ipython",
    "version": 3
   },
   "file_extension": ".py",
   "mimetype": "text/x-python",
   "name": "python",
   "nbconvert_exporter": "python",
   "pygments_lexer": "ipython3",
   "version": "3.9.7"
  }
 },
 "nbformat": 4,
 "nbformat_minor": 5
}
